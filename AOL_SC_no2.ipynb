{
  "nbformat": 4,
  "nbformat_minor": 0,
  "metadata": {
    "colab": {
      "provenance": [],
      "authorship_tag": "ABX9TyMXDwU0dsLX2aPHd4McH1F7",
      "include_colab_link": true
    },
    "kernelspec": {
      "name": "python3",
      "display_name": "Python 3"
    },
    "language_info": {
      "name": "python"
    }
  },
  "cells": [
    {
      "cell_type": "markdown",
      "metadata": {
        "id": "view-in-github",
        "colab_type": "text"
      },
      "source": [
        "<a href=\"https://colab.research.google.com/github/Geogebruh/AOL-SC/blob/main/AOL_SC_no2.ipynb\" target=\"_parent\"><img src=\"https://colab.research.google.com/assets/colab-badge.svg\" alt=\"Open In Colab\"/></a>"
      ]
    },
    {
      "cell_type": "code",
      "execution_count": null,
      "metadata": {
        "id": "dBJ90Oqd-m89"
      },
      "outputs": [],
      "source": [
        "import numpy as np\n",
        "import matplotlib.pyplot as plt\n",
        "\n",
        "# Data preparation\n",
        "months = np.arange(1, 145)  # 1 to 144 months\n",
        "production = np.array([1863, 1614, 2570, 1685, 2101, 1811, 2457, 2171, 2134, 2502, 2358, 2399, 2048, 2523, 2086, 2391, 2150, 2340, 3129, 2277, 2964, 2997, 2747, 2862, 3405, 2677, 2749, 2755, 2963, 3161, 3623, 2768, 3141, 3439, 3601, 3531, 3477, 3376, 4027, 3175, 3274, 3334, 3964, 3649, 3502, 3688, 3657, 4422, 4197, 4441, 4736, 4521, 4485, 4644, 5036, 4876, 4789, 4544, 4975, 5211, 4880, 4933, 5079, 5339, 5232, 5520, 5714, 5260, 6110, 5334, 5988, 6235, 6365, 6266, 6345, 6118, 6497, 6278, 6638, 6590, 6271, 7246, 6584, 6594, 7092, 7326, 7409, 7976, 7959, 8012, 8195, 8008, 8313, 7791, 8368, 8933, 8756, 8613, 8705, 9098, 8769, 9544, 9050, 9186, 10012, 9685, 9966, 10048, 10244, 10740, 10318, 10393, 10986, 10635, 10731, 11749, 11849, 12123, 12274, 11666, 11960, 12629, 12915, 13051, 13387, 13309, 13732, 13162, 13644, 13808, 14101, 13992, 15191, 15018, 14917, 15046, 15556, 15893, 16388, 16782, 16716, 17033, 16896, 17689])\n",
        "\n",
        "# Polynomial fitting\n",
        "poly_degree = 3  # Cubic polynomial\n",
        "coefficients = np.polyfit(months, production, poly_degree)\n",
        "\n",
        "# Display the coefficients\n",
        "a3, a2, a1, a0 = coefficients\n",
        "polynomial = np.poly1d([a3, a2, a1, a0])\n",
        "\n",
        "print(f\"Polynomial equation: P(x) = {a3:.6f}x^3 + {a2:.6f}x^2 + {a1:.6f}x + {a0:.6f}\")\n",
        "\n",
        "# Generate predictions\n",
        "production_pred = polynomial(months)\n",
        "\n",
        "# Plotting the results\n",
        "plt.figure(figsize=(10, 6))\n",
        "plt.scatter(months, production, color='blue', label='Production Data Gathered')\n",
        "plt.plot(months, production_pred, color='red', label='Cubic Regression')\n",
        "plt.xlabel('Month')\n",
        "plt.ylabel('Production')\n",
        "plt.title('EGIER Bag Production Trend Using Cubic Regression(Taylor Series)')\n",
        "plt.legend()\n",
        "plt.show()\n"
      ]
    }
  ]
}