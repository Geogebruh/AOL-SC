{
  "nbformat": 4,
  "nbformat_minor": 0,
  "metadata": {
    "colab": {
      "provenance": [],
      "authorship_tag": "ABX9TyPscCEmK2Da0gVRhIZb3k+B",
      "include_colab_link": true
    },
    "kernelspec": {
      "name": "python3",
      "display_name": "Python 3"
    },
    "language_info": {
      "name": "python"
    }
  },
  "cells": [
    {
      "cell_type": "markdown",
      "metadata": {
        "id": "view-in-github",
        "colab_type": "text"
      },
      "source": [
        "<a href=\"https://colab.research.google.com/github/Geogebruh/AOL-SC/blob/main/AOL_SC_no3.ipynb\" target=\"_parent\"><img src=\"https://colab.research.google.com/assets/colab-badge.svg\" alt=\"Open In Colab\"/></a>"
      ]
    },
    {
      "cell_type": "code",
      "execution_count": null,
      "metadata": {
        "id": "ChNSX4Ej-1Kg"
      },
      "outputs": [],
      "source": [
        "import numpy as np\n",
        "import matplotlib.pyplot as plt\n",
        "\n",
        "# Data preparation\n",
        "months = np.arange(1, 145)  # 1 to 144 months\n",
        "production = np.array([1863, 1614, 2570, 1685, 2101, 1811, 2457, 2171, 2134, 2502, 2358, 2399, 2048, 2523, 2086, 2391, 2150, 2340, 3129, 2277, 2964, 2997, 2747, 2862, 3405, 2677, 2749, 2755, 2963, 3161, 3623, 2768, 3141, 3439, 3601, 3531, 3477, 3376, 4027, 3175, 3274, 3334, 3964, 3649, 3502, 3688, 3657, 4422, 4197, 4441, 4736, 4521, 4485, 4644, 5036, 4876, 4789, 4544, 4975, 5211, 4880, 4933, 5079, 5339, 5232, 5520, 5714, 5260, 6110, 5334, 5988, 6235, 6365, 6266, 6345, 6118, 6497, 6278, 6638, 6590, 6271, 7246, 6584, 6594, 7092, 7326, 7409, 7976, 7959, 8012, 8195, 8008, 8313, 7791, 8368, 8933, 8756, 8613, 8705, 9098, 8769, 9544, 9050, 9186, 10012, 9685, 9966, 10048, 10244, 10740, 10318, 10393, 10986, 10635, 10731, 11749, 11849, 12123, 12274, 11666, 11960, 12629, 12915, 13051, 13387, 13309, 13732, 13162, 13644, 13808, 14101, 13992, 15191, 15018, 14917, 15046, 15556, 15893, 16388, 16782, 16716, 17033, 16896, 17689])\n",
        "\n",
        "# Polynomial fitting\n",
        "poly_degree = 3  # Cubic polynomial\n",
        "coefficients = np.polyfit(months, production, poly_degree)\n",
        "polynomial = np.poly1d(coefficients)\n",
        "\n",
        "# Derivative of the polynomial\n",
        "polynomial_derivative = polynomial.deriv()\n",
        "\n",
        "# Newton-Raphson method\n",
        "def newton_raphson(f, f_prime, x0, tol=1e-6, max_iter=1000):\n",
        "    x = x0\n",
        "    for _ in range(max_iter):\n",
        "        x_new = x - f(x) / f_prime(x)\n",
        "        if abs(x_new - x) < tol:\n",
        "            return x_new\n",
        "        x = x_new\n",
        "    raise RuntimeError(\"Newton-Raphson method did not converge\")\n",
        "\n",
        "# Define the function and its derivative for finding the root\n",
        "def func(x):\n",
        "    return polynomial(x) - 25000\n",
        "\n",
        "def func_prime(x):\n",
        "    return polynomial_derivative(x)\n",
        "\n",
        "# Initial guess\n",
        "initial_guess = 100\n",
        "\n",
        "# Find the month when production exceeds 25000 bags\n",
        "month_exceeds_capacity = newton_raphson(func, func_prime, initial_guess)\n",
        "\n",
        "# Calculate the start month for building a new warehouse\n",
        "start_building_month = month_exceeds_capacity - 13\n",
        "\n",
        "print(f\"EGIER needs to start building a new warehouse by month: {start_building_month:.5f}\")\n",
        "print(f\"EGIER will exceed the warehouse capacity by month: {month_exceeds_capacity:.5f}\")\n",
        "\n",
        "# Generate predictions\n",
        "production_pred = polynomial(months)\n",
        "\n",
        "# Plotting the results\n",
        "plt.figure(figsize=(10, 6))\n",
        "plt.scatter(months, production, color='blue', label='Production Data Gathered')\n",
        "plt.plot(months, production_pred, color='red', label='Cubic Regression')\n",
        "plt.axhline(y=25000, color='green', linestyle='--', label='Warehouse Capacity')\n",
        "plt.axvline(x=month_exceeds_capacity, color='purple', linestyle='--', label='Month Exceeds Capacity')\n",
        "plt.axvline(x=start_building_month, color='orange', linestyle='--', label='Start Building Month')\n",
        "plt.xlabel('Month')\n",
        "plt.ylabel('Production')\n",
        "plt.title('EGIER Bag Production Trend and Warehouse Capacity')\n",
        "plt.legend()\n",
        "plt.show()\n"
      ]
    }
  ]
}